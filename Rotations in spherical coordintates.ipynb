{
 "cells": [
  {
   "cell_type": "code",
   "execution_count": 1,
   "metadata": {
    "ExecuteTime": {
     "end_time": "2022-01-07T11:02:10.961899Z",
     "start_time": "2022-01-07T11:02:10.886352Z"
    }
   },
   "outputs": [],
   "source": [
    "import numpy as np"
   ]
  },
  {
   "cell_type": "markdown",
   "metadata": {},
   "source": [
    "# Theory\n",
    "Following chapter 7.3 in [Dan Steck's notes](http://atomoptics-nas.uoregon.edu/~dsteck/teaching/quantum-optics/)"
   ]
  },
  {
   "cell_type": "markdown",
   "metadata": {},
   "source": [
    "Any angular momentum state $|j,m\\rangle$ can be rotated by using the Wigner D-matrix\n",
    "\\begin{equation}\n",
    "R(\\alpha\\hat{z}, \\beta\\hat{y}', \\gamma\\hat{z}'') |j,m\\rangle = \n",
    "\\sum_{m'=-j}^j |j,m'\\rangle D_{m',m}^{(j)}(\\alpha, \\beta, \\gamma)\n",
    "\\end{equation}\n",
    "where the angles $\\alpha, \\beta, \\gamma$ describe the rotation in terms of Euler angles. Note that this is the product of a row vector with a matrix.\n",
    "\n",
    "The rotation here is decomposed into rotations about the initial $\\hat{y}$ and $\\hat{z}$ axis and the only non-trivial part of the D-matrix is the rotation about $\\hat{y}$, i.e.\n",
    "\\begin{equation}\n",
    "D_{m',m}^{(j)}(\\alpha, \\beta, \\gamma) = e^{-i m' \\alpha} d_{m',m}^{(j)}(\\beta\\hat{y}) e^{-i m \\gamma}\n",
    "\\end{equation}"
   ]
  },
  {
   "cell_type": "markdown",
   "metadata": {},
   "source": [
    "The wigner small d-matrix is defined as\n",
    "\\begin{equation}\n",
    "d_{m',m}^{(j)}(\\beta\\hat{y}) = \\langle j,m' |e^{-i J_y / \\hbar} |j,m\\rangle\n",
    "\\end{equation}\n",
    "and can be expanded as\n",
    "\\begin{equation}\n",
    "d_{m',m}^{(j)}(\\beta\\hat{y}) = \n",
    "\\sqrt{(j + m)! (j - m)! (j + m')! (j - m')!} \\times\n",
    "\\sum_s \\frac{(-1)^s}{(j - m' - s)! (j + m - s)! (s + m' - m)! s!}\n",
    "\\left( \\cos\\left(\\frac{\\beta}{2}\\right) \\right)^{2j + m - m' - 2s}\n",
    "\\left( -\\sin\\left(\\frac{\\beta}{2}\\right)\\right)^{m' - m + 2s}.\n",
    "\\end{equation}\n",
    "where the sum runs over all $s$ for which the factorial is non-negative, i.e. which fulfill\n",
    "\\begin{align}\n",
    "s &< j - m' \\\\\n",
    "s &< j + m \\\\\n",
    "s &> m - m' \\\\\n",
    "s &> 0\n",
    "\\end{align}\n",
    "Note that the in the definition on [Wikipedia](https://en.wikipedia.org/wiki/Wigner_D-matrix#cite_note-1) the (-1) from the sine term is pulled into the sum. "
   ]
  },
  {
   "cell_type": "markdown",
   "metadata": {},
   "source": [
    "If we want to rotate a polarization vector defined in sperical coorinates with basis\n",
    "\\begin{align}\n",
    "\\hat{e}_{\\pm 1} &= \\mp\\left(\\hat{x} \\pm i \\hat{y}\\right) \\equiv \\sigma_{\\pm}\\\\\n",
    "\\hat{e}_0 &= \\hat{z} \\equiv \\pi\n",
    "\\end{align}\n",
    "we have to calculate the Wigner D-matrix for $j=1$\n",
    "\\begin{equation}\n",
    "d_{m',m}^{(1)}(\\theta\\hat{y}) = \n",
    "\\begin{pmatrix}\n",
    "\\frac{1}{2}(1 + \\cos\\theta) & -\\frac{1}{\\sqrt{2}}\\sin\\theta & \\frac{1}{2}(1 - \\cos\\theta) \\\\\n",
    "\\frac{1}{\\sqrt{2}}\\sin\\theta & \\cos\\theta &  -\\frac{1}{\\sqrt{2}}\\sin\\theta \\\\\n",
    "\\frac{1}{2}(1 - \\cos\\theta) & \\frac{1}{\\sqrt{2}}\\sin\\theta & \\frac{1}{2}(1 + \\cos\\theta)\n",
    "\\end{pmatrix}\n",
    "\\end{equation}\n",
    "\n",
    "And arbitrary rotations are given by (see also [1])\n",
    "\\begin{equation}\n",
    "R(\\alpha\\hat{z}, \\beta\\hat{y}', \\gamma\\hat{z}'') = \n",
    "D_{m',m}^{(1)}(\\alpha, \\beta, \\gamma) = e^{-i m' \\alpha} d_{m',m}^{(1)}(\\beta\\hat{y}) e^{-i m \\gamma} =\n",
    "\\begin{pmatrix}\n",
    "\\frac{1}{2}(1 + \\cos\\beta) e^{i (\\alpha + \\gamma)} & \n",
    "-\\frac{1}{\\sqrt{2}}\\sin\\beta e^{i \\alpha } & \n",
    "\\frac{1}{2}(1 - \\cos\\beta) e^{i (\\alpha - \\gamma)}\\\\\n",
    "\\frac{1}{\\sqrt{2}}\\sin\\beta e^{i \\gamma}& \n",
    "\\cos\\beta &  \n",
    "-\\frac{1}{\\sqrt{2}}\\sin\\beta e^{-i \\gamma} \\\\\n",
    "\\frac{1}{2}(1 - \\cos\\beta) e^{-i (\\alpha - \\gamma)} & \n",
    "\\frac{1}{\\sqrt{2}}\\sin\\beta e^{-i \\alpha}& \n",
    "\\frac{1}{2}(1 + \\cos\\beta) e^{-i (\\alpha + \\gamma)}\n",
    "\\end{pmatrix}\n",
    "\\end{equation}"
   ]
  },
  {
   "cell_type": "markdown",
   "metadata": {},
   "source": [
    "**Interesting side note**: For $j=1/2$ the exponentials in $R$ are not $2\\pi$-periodic anymore. For this reason a qubit picks up a negative phase when rotated by only $2\\pi$. "
   ]
  },
  {
   "cell_type": "markdown",
   "metadata": {},
   "source": [
    "So far we calculated what a state $|j,m\\rangle$ looks like when we rotate it about $\\zeta = \\alpha\\hat{z} + \\beta\\hat{y}' + \\gamma\\hat{z}''$ ([2] calls those active rotations). If we want to know how the same vector is represented in a rotated coodinate system we have to use the inverse  of the rotation ([2] calls those passive), i.e. \n",
    "\\begin{equation}\n",
    "R^{(p)}(\\alpha\\hat{z}, \\beta\\hat{y}', \\gamma\\hat{z}'') = R^\\mathrm{(a) \\dagger}(\\alpha\\hat{z}, \\beta\\hat{y}', \\gamma\\hat{z}'')\n",
    "\\end{equation}\n",
    "We can calculate the matrix elements of the passive roation\n",
    "\\begin{equation}\n",
    "\\langle j,m'| R^{(p)}(\\alpha\\hat{z}, \\beta\\hat{y}', \\gamma\\hat{z}'') |j,m\\rangle = \n",
    "\\langle j,m'| R^{(a)\\dagger}(\\alpha\\hat{z}, \\beta\\hat{y}', \\gamma\\hat{z}'') |j,m\\rangle = \n",
    "\\left(\\langle j,m| R^{(a)}(\\alpha\\hat{z}, \\beta\\hat{y}', \\gamma\\hat{z}'') |j,m'\\rangle\\right)^* =\n",
    "D_{m,m'}^{(j)*}(\\alpha,\\beta,\\gamma)\n",
    "\\end{equation}\n",
    "Therefore the same vector in a **rotated coodinate system** is given by\n",
    "\\begin{equation}\n",
    "|j, m\\rangle'= \n",
    "\\sum_{m'} |j m'\\rangle D_{m',m}^{(j) (p)}(\\alpha,\\beta,\\gamma)\n",
    "\\sum_{m'} |j m'\\rangle D_{m,m'}^{(j)*}(\\alpha,\\beta,\\gamma)\n",
    "\\end{equation}\n",
    "This is now the product of the complex conjugated D-matrix with a row vector."
   ]
  },
  {
   "cell_type": "markdown",
   "metadata": {},
   "source": [
    "[1] J.D. Louck, *Angular momentum theory*, in Atomic, molecular and optical physics handbook.\n",
    "\n",
    "[2] M. A. Morrison and G. A. Parker, *A Guide to Roations in Quantum Mechanics*, Aust. J. Phys., **40**, 465-497 (1987)."
   ]
  },
  {
   "cell_type": "markdown",
   "metadata": {},
   "source": [
    "# Calculate d-matrix elements"
   ]
  },
  {
   "cell_type": "code",
   "execution_count": 2,
   "metadata": {
    "ExecuteTime": {
     "end_time": "2022-01-07T11:02:10.968185Z",
     "start_time": "2022-01-07T11:02:10.963030Z"
    }
   },
   "outputs": [],
   "source": [
    "def s_sum(j, m, mp, s_min, s_max):\n",
    "    \"\"\"Calculate the sum term in small d. \"\"\"\n",
    "    \n",
    "    res = []\n",
    "    for s in np.arange(s_min, s_max + 1, 1):\n",
    "        t1 = (-1)**int(s) / \\\n",
    "            (np.math.factorial(j - mp - s) * \\\n",
    "             np.math.factorial(j + m - s) * \\\n",
    "             np.math.factorial(s + mp - m) * \\\n",
    "             np.math.factorial(s))\n",
    "        t2 = 2*j + m - mp - 2*s                    # exponent of cosine term\n",
    "        t3 = mp - m + 2*s                          # exponent of sine term\n",
    "        res.append((t1, t2, t3))\n",
    "    return res\n",
    "\n",
    "def root(j, m, mp):\n",
    "    \"\"\"Calculate the square root term in small d. \"\"\"\n",
    "    return np.sqrt(np.math.factorial(j+m) * np.math.factorial(j-m) * np.math.factorial(j+mp) * np.math.factorial(j-mp))"
   ]
  },
  {
   "cell_type": "code",
   "execution_count": 3,
   "metadata": {
    "ExecuteTime": {
     "end_time": "2022-01-07T11:02:10.984871Z",
     "start_time": "2022-01-07T11:02:10.969131Z"
    }
   },
   "outputs": [
    {
     "name": "stdout",
     "output_type": "stream",
     "text": [
      "1.4142135623730951\n",
      "[(-1.0, 1, 1)]\n"
     ]
    }
   ],
   "source": [
    "m = 1\n",
    "mp = 0\n",
    "j = 1\n",
    "t1 = root(j, m, mp)\n",
    "t2 = s_sum(j, m, mp, 1, 1)\n",
    "\n",
    "\n",
    "print(t1)\n",
    "print(t2)"
   ]
  },
  {
   "cell_type": "code",
   "execution_count": 4,
   "metadata": {
    "ExecuteTime": {
     "end_time": "2022-01-07T11:02:11.002314Z",
     "start_time": "2022-01-07T11:02:10.985554Z"
    }
   },
   "outputs": [],
   "source": [
    "def R_naive(a, b, g):\n",
    "    c = np.cos(b/2)\n",
    "    s = np.sin(b/2)\n",
    "    \n",
    "    ac = 1j * a\n",
    "    gc = 1j * g\n",
    "    \n",
    "    return np.matrix([[c**2 * np.exp(ac) * np.exp(gc), -np.sqrt(2) * s * c * np.exp(ac), s**2 * np.exp(ac) * np.exp(-gc)],\n",
    "                     [np.sqrt(2) * s * c * np.exp(gc), 1 - 2*s**2, -np.sqrt(2) * s * c * np.exp(-gc)],\n",
    "                     [s**2 * np.exp(-ac) * np.exp(gc), np.sqrt(2) * s * c * np.exp(-ac), c**2 * np.exp(-ac) * np.exp(-gc)]])\n",
    "\n",
    "def R(a, b, g):   \n",
    "    return np.matrix(\n",
    "        [[(1+np.cos(b))/2 * np.exp(1j*(a+g)), -np.sin(b)/np.sqrt(2) * np.exp(1j*a), (1-np.cos(b))/2 * np.exp(1j*(a-g))],\n",
    "         [np.sin(b)/np.sqrt(2) * np.exp(1j*g), np.cos(b), -np.sin(b)/np.sqrt(2) * np.exp(-1j*g)],\n",
    "         [(1-np.cos(b))/2 * np.exp(-1j*(a-g)), np.sin(b)/np.sqrt(2) * np.exp(-1j*a), (1+np.cos(b))/2 * np.exp(-1j*(a+g))]]\n",
    "    )\n",
    "\n",
    "def dmpm(b):\n",
    "    return np.matrix(\n",
    "        [[(1+np.cos(b))/2, -np.sin(b)/np.sqrt(2), (1-np.cos(b))/2],\n",
    "         [np.sin(b)/np.sqrt(2), np.cos(b), -np.sin(b)/np.sqrt(2)],\n",
    "         [(1-np.cos(b))/2, np.sin(b)/np.sqrt(2), (1+np.cos(b))/2]]\n",
    "    )"
   ]
  },
  {
   "cell_type": "markdown",
   "metadata": {},
   "source": [
    "## Example 1"
   ]
  },
  {
   "cell_type": "markdown",
   "metadata": {},
   "source": [
    "A rotation by $(\\alpha = 0, \\beta=\\pi, \\gamma = 0)$ (i.e. the transformation $\\hat{x}\\rightarrow -\\hat{x}, \\hat{z}\\rightarrow -\\hat{z}$) results in \n",
    "\\begin{align}\n",
    "\\hat{e}_{\\pm 1} &\\rightarrow \\hat{e}_{\\mp 1} \\\\\n",
    "\\hat{e}_0 &\\rightarrow -\\hat{e}_0\n",
    "\\end{align}"
   ]
  },
  {
   "cell_type": "code",
   "execution_count": 5,
   "metadata": {
    "ExecuteTime": {
     "end_time": "2022-01-07T11:02:11.541734Z",
     "start_time": "2022-01-07T11:02:11.003588Z"
    }
   },
   "outputs": [
    {
     "data": {
      "text/plain": [
       "matrix([[ 0.-0.j, -0.-0.j,  1.-0.j],\n",
       "        [ 0.-0.j, -1.-0.j, -0.-0.j],\n",
       "        [ 1.-0.j,  0.-0.j,  0.-0.j]])"
      ]
     },
     "execution_count": 5,
     "metadata": {},
     "output_type": "execute_result"
    }
   ],
   "source": [
    "np.round(R(0, np.pi, 0).conj(), 4)"
   ]
  },
  {
   "cell_type": "markdown",
   "metadata": {},
   "source": [
    "**Note**: The rows of the rotation matrix correspond to the transformation of the basis vectors because $\\hat{e}_q' = \\sum_\\mu D^*_{q,\\mu}\\hat{e}_\\mu$ where we can write the basis vectors in the spherical basis as\n",
    "\\begin{align}\n",
    "\\hat{e}_{-1} &\\equiv \\begin{pmatrix}1&0&0\\end{pmatrix}^T \\\\\n",
    "\\hat{e}_{0} &\\equiv \\begin{pmatrix}0&1&0\\end{pmatrix}^T\\\\\n",
    "\\hat{e}_{1} &\\equiv \\begin{pmatrix}0&0&1\\end{pmatrix}^T\n",
    "\\end{align}"
   ]
  },
  {
   "cell_type": "markdown",
   "metadata": {},
   "source": [
    "## Example 2"
   ]
  },
  {
   "cell_type": "markdown",
   "metadata": {},
   "source": [
    "A rotation by $(\\alpha = 0, \\beta=\\pi/2, \\gamma = 0)$ (i.e. the transformation $\\hat{x}\\rightarrow -\\hat{z}, \\hat{z}\\rightarrow \\hat{x}$) results in \n",
    "\\begin{align}\n",
    "\\hat{e}_{-1} &\\rightarrow \\frac{1}{2} \\left(\\hat{e}_{-1} - \\sqrt{2}\\hat{e}_0 + \\hat{e}_1\\right) \\\\\n",
    "\\hat{e}_0 &\\rightarrow \\frac{1}{\\sqrt{2}} \\left(\\hat{e}_{-1} - \\hat{e}_1\\right) \\\\\n",
    "\\hat{e}_1 &\\rightarrow \\frac{1}{2} \\left(\\hat{e}_{-1} + \\sqrt{2}\\hat{e}_0 + \\hat{e}_1\\right)\n",
    "\\end{align}"
   ]
  },
  {
   "cell_type": "code",
   "execution_count": 6,
   "metadata": {
    "ExecuteTime": {
     "end_time": "2022-01-07T11:02:11.554126Z",
     "start_time": "2022-01-07T11:02:11.542816Z"
    }
   },
   "outputs": [
    {
     "data": {
      "text/plain": [
       "matrix([[ 0.5   -0.j, -0.7071-0.j,  0.5   -0.j],\n",
       "        [ 0.7071-0.j,  0.    -0.j, -0.7071-0.j],\n",
       "        [ 0.5   -0.j,  0.7071-0.j,  0.5   -0.j]])"
      ]
     },
     "execution_count": 6,
     "metadata": {},
     "output_type": "execute_result"
    }
   ],
   "source": [
    "np.round(R(0, np.pi/2, 0).conj(), 4)"
   ]
  },
  {
   "cell_type": "markdown",
   "metadata": {},
   "source": [
    "# Transforming polarization between different quantization axes"
   ]
  },
  {
   "cell_type": "markdown",
   "metadata": {},
   "source": [
    "Let's consider the case where we know the polarization of light in carthesian coordinates (i.e. with respect to the quantization axis $\\hat{z}$) and we want to know what polarization an atom with a different quantization axis $\\hat{z}'$ sees. What we have to do now is the following\n",
    "1. Express the polarization in the $\\hat{e}_0, \\hat{e}_{\\pm 1}$ basis, i.e. with a quantization axis along $\\hat{z}$.\n",
    "2. Transform to the coordinate system with rotated quantization axis."
   ]
  },
  {
   "cell_type": "markdown",
   "metadata": {},
   "source": [
    "For the first step we either need to have pure $\\pi$ or $\\sigma_\\pm$ polarization or otherwise find the representation of the polarization in spherical coordinates. We will use the standard decomposition into spherical coodintates, i.e.\n",
    "\\begin{equation}\n",
    "{\\bf A} = \\sum_{q=-1}^1 A_q \\hat{e}_{q}^* = \\sum_{q=-1}^1 (-1)^q A_q \\hat{e}_{-q}\n",
    "\\end{equation}\n",
    "In order to find the coefficients $A_q$ we need to solve \n",
    "\\begin{equation}\n",
    "-A_{-1}\\hat{e}_{1} + A_0 \\hat{e}_0 - A_1 \\hat{e}_{-1} = A_x\\hat{x} + A_y\\hat{y} + A_z\\hat{z}\n",
    "\\end{equation}\n",
    "which can be rewritten as\n",
    "\\begin{align}\n",
    "-\\frac{1}{\\sqrt{2}} (A_1 - A_{-1}) &= A_x \\\\\n",
    "\\frac{i}{\\sqrt{2}} (A_1 + A_{-1}) &= A_y \\\\\n",
    "A_0 &= A_z.\n",
    "\\end{align}\n",
    "Solving for the coefficients $A_q$ then yields\n",
    "\\begin{align}\n",
    "A_{-1} &= \\frac{1}{\\sqrt{2}} (A_x - i A_y) \\\\\n",
    "A_0 &= A_z \\\\\n",
    "A_1 &= -\\frac{1}{\\sqrt{2}} (A_x +i A_y).\n",
    "\\end{align}"
   ]
  },
  {
   "cell_type": "markdown",
   "metadata": {},
   "source": [
    "Next we need to rotate to the new quantization axis $\\hat{z}'$. If we can write the new quantization axis in our old reference frame as $\\hat{z}' = n_x \\hat{x} + n_y \\hat{y} + n_z\\hat{z}$ then we just have to apply the rotation \n",
    "\\begin{equation}\n",
    "p' = R^*(0, \\theta, \\phi) \n",
    "\\begin{pmatrix}\n",
    "-A_{1} \\\\ A_0 \\\\ -A_{-1}\n",
    "\\end{pmatrix}\n",
    "\\end{equation}\n",
    "where the angles $\\theta$ and $\\phi$ are given by\n",
    "\\begin{align}\n",
    "\\theta &= \\arccos (n_z) \\\\ \n",
    "\\phi &= \\arctan \\left( \\frac{n_y}{n_x} \\right)\n",
    "\\end{align}"
   ]
  },
  {
   "cell_type": "markdown",
   "metadata": {},
   "source": [
    "**Note** that we implicitly assumed that all vectors are normalized to unity."
   ]
  },
  {
   "cell_type": "code",
   "execution_count": 7,
   "metadata": {
    "ExecuteTime": {
     "end_time": "2022-01-07T11:02:11.566901Z",
     "start_time": "2022-01-07T11:02:11.554856Z"
    }
   },
   "outputs": [],
   "source": [
    "def x_to_sp(vec):\n",
    "    Am = (vec[0] - 1j * vec[1]) / np.sqrt(2)\n",
    "    A0 = vec[2]\n",
    "    Ap = - (vec[0] + 1j * vec[1]) / np.sqrt(2)\n",
    "    return np.array([-Ap, A0, -Am])\n",
    "\n",
    "def sp_to_x(vec):\n",
    "    Am = -vec[2]; A0 = vec[1]; Ap = -vec[0]\n",
    "    Ax = -(Ap - Am) / np.sqrt(2)\n",
    "    Ay = 1j * (Ap + Am) / np.sqrt(2)\n",
    "    Az = A0\n",
    "    return np.array([Ax, Ay, Az])"
   ]
  },
  {
   "cell_type": "markdown",
   "metadata": {},
   "source": [
    "## Example 3\n",
    "Let's consider the case where we have light polarized as $p = (\\hat{x} + \\hat{y}) / \\sqrt{2}$. In terms of $\\hat{e}_0, \\hat{e}_{\\pm 1}$ that is $p_z = \\frac{1+i}{2}\\hat{e}_{-1} - \\frac{1-i}{2}\\hat{e}_1$"
   ]
  },
  {
   "cell_type": "code",
   "execution_count": 8,
   "metadata": {
    "ExecuteTime": {
     "end_time": "2022-01-07T11:02:11.582243Z",
     "start_time": "2022-01-07T11:02:11.567633Z"
    }
   },
   "outputs": [
    {
     "name": "stdout",
     "output_type": "stream",
     "text": [
      "[ 0.5+0.5j  0. +0.j  -0.5+0.5j]\n"
     ]
    }
   ],
   "source": [
    "# axis of polarization\n",
    "pol = np.array([1, 1, 0]) / np.sqrt(2)\n",
    "\n",
    "# polarization in spherical coordinates\n",
    "Am = (pol[0] - 1j * pol[1]) / np.sqrt(2)\n",
    "A0 = pol[2]\n",
    "Ap = -(pol[0] + 1j * pol[1]) / np.sqrt(2)\n",
    "\n",
    "pol_z = np.array([-Ap, A0, -Am])\n",
    "\n",
    "print(pol_z)"
   ]
  },
  {
   "cell_type": "markdown",
   "metadata": {},
   "source": [
    "If we want to know what polarization an atom sees which has a quantization axis along $\\hat{z}' = (\\hat{x}+\\hat{y})/\\sqrt{2}$ we need to rotate by $\\theta = \\pi/2$, $\\phi = \\pi/4$ and should get, that the atom just sees lineraly polarized light."
   ]
  },
  {
   "cell_type": "code",
   "execution_count": 9,
   "metadata": {
    "ExecuteTime": {
     "end_time": "2022-01-07T11:02:11.647732Z",
     "start_time": "2022-01-07T11:02:11.583012Z"
    }
   },
   "outputs": [
    {
     "name": "stdout",
     "output_type": "stream",
     "text": [
      "[[ 0.+0.j]\n",
      " [ 1.+0.j]\n",
      " [-0.+0.j]]\n"
     ]
    }
   ],
   "source": [
    "# quantization axis in carthesian coordinates\n",
    "quant = np.array([1, 1, 0]) / np.sqrt(2)\n",
    "\n",
    "theta = np.arccos(quant[2])\n",
    "phi = np.arctan2(quant[1], quant[0])\n",
    "\n",
    "pol_prime = np.dot(R(0, theta, phi).conj(), pol_z).T\n",
    "\n",
    "print(np.round(pol_prime, 4))"
   ]
  },
  {
   "cell_type": "markdown",
   "metadata": {},
   "source": [
    "## Alternative approach"
   ]
  },
  {
   "cell_type": "markdown",
   "metadata": {},
   "source": [
    "Alternative to the above approach we could also get to the same result by applying two consecutive rotations if we have a known superposition of $\\pi$ and $\\sigma_\\pm$ polarization along one particular quantization axis $\\hat{z}_p = n_{x,p} \\hat{x} + n_{y,p} \\hat{y} + n_{z,p}\\hat{z}$.\n",
    "\n",
    "In this case we can write the basis vector $\\hat{p} = -A_1\\hat{e}_{-1} + A_0\\hat{e}_0 - A_{-1}\\hat{e}_1$. Then we rotate it to the usual frame with quantization axis along $\\hat{z}$. This means we have to apply the inverse rotation of the one we defined for transforming between coordinate systems, i.e.\n",
    "\\begin{equation}\n",
    "p_\\hat{z} = \n",
    "\\begin{pmatrix}\n",
    "-A_+ & A_0 & -A_-\n",
    "\\end{pmatrix} \\cdot\n",
    "R(0,\\theta_p, \\phi_p) \\cdot\n",
    "\\end{equation}\n",
    "where the angles are given by $\\theta_p = \\arccos (n_{z,p})$ and $\\phi_p = \\arctan \\left( \\frac{n_{y,p}}{n_{x,p}} \\right)$. Note that we have to use the negative angles to get the transformation from the coordinate system $\\hat{z}_p$ to $\\hat{z}$.\n",
    "\n",
    "Afterwards we apply the same rotations as above, i.e.\n",
    "\\begin{equation}\n",
    "p' = \n",
    "R^*(0,\\theta, \\phi) \\cdot p_\\hat{z}^T = \n",
    "R^*(0,\\theta, \\phi) R^T(0,\\theta_p, \\phi_p)\n",
    "\\begin{pmatrix}\n",
    "-A_1 \\\\ A_0 \\\\ -A_{-1}\n",
    "\\end{pmatrix}\n",
    "\\end{equation}\n",
    "**Note** that it is not possible to write the multiplication of two rotations as one rotation with the sum of the angles since we rotate about different axes (it only works when we only rotate once about the $\\hat{z}$ axis, i.e. $\\theta = 0$)."
   ]
  },
  {
   "cell_type": "markdown",
   "metadata": {},
   "source": [
    "## Exampe 4\n",
    "With the same numbers as above"
   ]
  },
  {
   "cell_type": "code",
   "execution_count": 10,
   "metadata": {
    "ExecuteTime": {
     "end_time": "2022-01-07T11:02:11.660278Z",
     "start_time": "2022-01-07T11:02:11.648488Z"
    }
   },
   "outputs": [
    {
     "name": "stdout",
     "output_type": "stream",
     "text": [
      "[[ 0.5+0.5j  0. +0.j  -0.5+0.5j]]\n",
      "[[0.-0.j 1.+0.j 0.-0.j]]\n"
     ]
    }
   ],
   "source": [
    "# axis along we know the polarization\n",
    "z_p = np.array([1, 1, 0]) / np.sqrt(2)\n",
    "# polarization along z_p\n",
    "pol_p = np.array([0, 1, 0])\n",
    "# desired quantization axis\n",
    "quant = np.array([1, 1, 0]) / np.sqrt(2)\n",
    "\n",
    "theta_p = np.arccos(z_p[2])\n",
    "phi_p = np.arctan2(z_p[1], z_p[0])\n",
    "\n",
    "theta = np.arccos(quant[2])\n",
    "phi = np.arctan2(quant[1], quant[0])\n",
    "\n",
    "pol_z = np.dot(pol_p, R(0, theta_p, phi_p))\n",
    "\n",
    "pol_prime = np.dot(np.dot(R(0, theta, phi).conj(),R(0, theta_p, phi_p).T), pol_p)\n",
    "\n",
    "print(np.round(pol_z, 4))\n",
    "print(np.round(pol_prime, 4))"
   ]
  },
  {
   "cell_type": "markdown",
   "metadata": {},
   "source": [
    "## Example 5\n",
    "What polarization does an atom quantized along $\\hat{z}$ see when $\\sigma_+$ polarized light propagates along $\\hat{x}$?"
   ]
  },
  {
   "cell_type": "code",
   "execution_count": 11,
   "metadata": {
    "ExecuteTime": {
     "end_time": "2022-01-07T11:02:11.722548Z",
     "start_time": "2022-01-07T11:02:11.661019Z"
    }
   },
   "outputs": [
    {
     "name": "stdout",
     "output_type": "stream",
     "text": [
      "[[0.5       +0.j 0.70710678+0.j 0.5       +0.j]]\n"
     ]
    }
   ],
   "source": [
    "pol = np.array([0,0,1]) # sigma+\n",
    "pol_axis = np.array([1,0, 0])\n",
    "quant_axis = np.array([0, 0, 1])\n",
    "\n",
    "theta = np.arccos(pol_axis[2])\n",
    "phi = np.arctan2(pol_axis[1], pol_axis[0])\n",
    "pol_z = np.dot(pol, R(0, theta, phi))\n",
    "print(pol_z)"
   ]
  },
  {
   "cell_type": "code",
   "execution_count": 12,
   "metadata": {
    "ExecuteTime": {
     "end_time": "2022-01-07T11:02:11.852037Z",
     "start_time": "2022-01-07T11:02:11.723279Z"
    }
   },
   "outputs": [
    {
     "name": "stdout",
     "output_type": "stream",
     "text": [
      "Ax = -0.00+0.00j\n",
      "Ay = 0.00+0.71j\n",
      "Az = 0.71+0.00j\n"
     ]
    }
   ],
   "source": [
    "print('Ax = {:.2f}'.format(-1/np.sqrt(2) * (pol_z[0,2]-pol_z[0,0])))\n",
    "print('Ay = {:.2f}'.format(1j/np.sqrt(2) * (pol_z[0,2]+pol_z[0,0])))\n",
    "print('Az = {:.2f}'.format(pol_z[0,1]))"
   ]
  },
  {
   "cell_type": "markdown",
   "metadata": {},
   "source": [
    "$\\sigma_+^{(\\hat{z})}$"
   ]
  },
  {
   "cell_type": "code",
   "execution_count": 13,
   "metadata": {
    "ExecuteTime": {
     "end_time": "2022-01-07T11:02:11.866246Z",
     "start_time": "2022-01-07T11:02:11.852786Z"
    }
   },
   "outputs": [
    {
     "name": "stdout",
     "output_type": "stream",
     "text": [
      "-0j 0j (0.9999999999999998-0j)\n"
     ]
    }
   ],
   "source": [
    "sigma_p_z = [-1/np.sqrt(2), -1j / np.sqrt(2), 0] # -1/sqrt(2) * (x + iy)\n",
    "sigma_p_sp = x_to_sp(sigma_p_z) # (0, 0, 1)\n",
    "print(sigma_p_sp[0], sigma_p_sp[1], sigma_p_sp[2])"
   ]
  },
  {
   "cell_type": "markdown",
   "metadata": {},
   "source": [
    "$\\sigma_-^{(\\hat{z})}$"
   ]
  },
  {
   "cell_type": "code",
   "execution_count": 14,
   "metadata": {
    "ExecuteTime": {
     "end_time": "2022-01-07T11:02:11.878887Z",
     "start_time": "2022-01-07T11:02:11.866820Z"
    }
   },
   "outputs": [
    {
     "name": "stdout",
     "output_type": "stream",
     "text": [
      "(0.9999999999999998-0j) 0j (-0-0j)\n"
     ]
    }
   ],
   "source": [
    "sigma_m_z = [1/np.sqrt(2), -1j / np.sqrt(2), 0] # 1/sqrt(2) * (x - iy)\n",
    "sigma_m_sp = x_to_sp(sigma_m_z) # (1, 0 , 0)\n",
    "print(sigma_m_sp[0], sigma_m_sp[1], sigma_m_sp[2])"
   ]
  },
  {
   "cell_type": "markdown",
   "metadata": {},
   "source": [
    "$\\sigma_+^{(\\hat{x})}$"
   ]
  },
  {
   "cell_type": "code",
   "execution_count": 15,
   "metadata": {
    "ExecuteTime": {
     "end_time": "2022-01-07T11:02:11.895138Z",
     "start_time": "2022-01-07T11:02:11.879497Z"
    }
   },
   "outputs": [
    {
     "name": "stdout",
     "output_type": "stream",
     "text": [
      "[-0.-0.5j        -0.-0.70710678j -0.-0.5j       ]\n",
      "[[0.-0.5j        0.-0.70710678j 0.-0.5j       ]]\n",
      "(-0-0.49999999999999994j) (-0-0.7071067811865475j) (-0-0.49999999999999994j)\n"
     ]
    }
   ],
   "source": [
    "sigma_p_x = [0, -1/np.sqrt(2), -1j / np.sqrt(2)] # -1/sqrt(2) * (y + iz)\n",
    "sigma_p_sp = x_to_sp(sigma_p_x)\n",
    "print(sigma_p_sp)\n",
    "\n",
    "pol = np.array([0,0,1]) # sigma+\n",
    "pol_axis = np.array([1,0, 0]) # x basis\n",
    "quant_axis = np.array([0, 0, 1])\n",
    "\n",
    "theta = np.arccos(pol_axis[2])\n",
    "phi = np.arctan2(pol_axis[1], pol_axis[0])\n",
    "pol_z = np.dot(pol, R(0, theta, phi))\n",
    "print(pol_z[0,:] * (-1j)) # global phase of exp(-i * pi/2)\n",
    "\n",
    "print(sigma_p_sp[0], sigma_p_sp[1], sigma_p_sp[2])"
   ]
  },
  {
   "cell_type": "markdown",
   "metadata": {},
   "source": [
    "$\\sigma_-^{(\\hat{x})}$"
   ]
  },
  {
   "cell_type": "code",
   "execution_count": 16,
   "metadata": {
    "ExecuteTime": {
     "end_time": "2022-01-07T11:02:11.909402Z",
     "start_time": "2022-01-07T11:02:11.895832Z"
    }
   },
   "outputs": [
    {
     "name": "stdout",
     "output_type": "stream",
     "text": [
      "[ 0.+0.5j        -0.-0.70710678j -0.+0.5j       ]\n",
      "[[0.+0.5j        0.-0.70710678j 0.+0.5j       ]]\n",
      "0.49999999999999994j (-0-0.7071067811865475j) (-0+0.49999999999999994j)\n"
     ]
    }
   ],
   "source": [
    "sigma_m_x = [0, 1/np.sqrt(2), -1j / np.sqrt(2)] # 1/sqrt(2) * (y - iz)\n",
    "sigma_m_sp = x_to_sp(sigma_m_x)\n",
    "print(sigma_m_sp)\n",
    "\n",
    "pol = np.array([1,0,0]) # sigma-\n",
    "pol_axis = np.array([1,0, 0]) # x basis\n",
    "quant_axis = np.array([0, 0, 1])\n",
    "\n",
    "theta = np.arccos(pol_axis[2])\n",
    "phi = np.arctan2(pol_axis[1], pol_axis[0])\n",
    "pol_z = np.dot(pol, R(0, theta, phi))\n",
    "print(pol_z[0,:] * 1j) # global phase of exp(-i * 3*pi/2)\n",
    "\n",
    "print(sigma_m_sp[0], sigma_m_sp[1], sigma_m_sp[2])"
   ]
  },
  {
   "cell_type": "markdown",
   "metadata": {},
   "source": [
    "$\\sigma_+^{(\\hat{y})}$"
   ]
  },
  {
   "cell_type": "code",
   "execution_count": 17,
   "metadata": {
    "ExecuteTime": {
     "end_time": "2022-01-07T11:02:11.922290Z",
     "start_time": "2022-01-07T11:02:11.910062Z"
    }
   },
   "outputs": [
    {
     "name": "stdout",
     "output_type": "stream",
     "text": [
      "[-0.        -0.5j -0.70710678+0.j   0.        +0.5j]\n",
      "[[0.        +0.5j 0.70710678+0.j  0.        -0.5j]]\n",
      "(-0-0.49999999999999994j) (-0.7071067811865475+0j) 0.49999999999999994j\n"
     ]
    }
   ],
   "source": [
    "sigma_p_y = [-1j / np.sqrt(2), 0, -1/np.sqrt(2)] # -1/sqrt(2) * (z + ix)\n",
    "sigma_p_sp = x_to_sp(sigma_p_y)\n",
    "print(sigma_p_sp)\n",
    "\n",
    "pol = np.array([0,0,1]) # sigma+\n",
    "pol_axis = np.array([0,1, 0]) # y basis\n",
    "quant_axis = np.array([0, 0, 1])\n",
    "\n",
    "theta = np.arccos(pol_axis[2])\n",
    "phi = np.arctan2(pol_axis[1], pol_axis[0])\n",
    "pol_z = np.dot(pol, R(0, theta, phi))\n",
    "print(np.round(pol_z[0,:], 10)) # global phase of exp(-i * pi)\n",
    "\n",
    "print(sigma_p_sp[0], sigma_p_sp[1], sigma_p_sp[2])"
   ]
  },
  {
   "cell_type": "markdown",
   "metadata": {},
   "source": [
    "$\\sigma_-^{(\\hat{y})}$"
   ]
  },
  {
   "cell_type": "code",
   "execution_count": 18,
   "metadata": {
    "ExecuteTime": {
     "end_time": "2022-01-07T11:02:11.938820Z",
     "start_time": "2022-01-07T11:02:11.922951Z"
    }
   },
   "outputs": [
    {
     "name": "stdout",
     "output_type": "stream",
     "text": [
      "[-0.        -0.5j  0.70710678+0.j   0.        +0.5j]\n",
      "[[ 0.        +0.5j -0.70710678+0.j   0.        -0.5j]]\n",
      "(-0-0.49999999999999994j) (0.7071067811865475+0j) 0.49999999999999994j\n"
     ]
    }
   ],
   "source": [
    "sigma_m_y = [-1j / np.sqrt(2), 0, 1/np.sqrt(2)] # 1/sqrt(2) * (z - ix)\n",
    "sigma_m_sp = x_to_sp(sigma_m_y) \n",
    "print(sigma_m_sp)\n",
    "\n",
    "pol = np.array([1,0,0]) # sigma-\n",
    "pol_axis = np.array([0,1, 0]) # y basis\n",
    "quant_axis = np.array([0, 0, 1])\n",
    "\n",
    "theta = np.arccos(pol_axis[2])\n",
    "phi = np.arctan2(pol_axis[1], pol_axis[0])\n",
    "pol_z = np.dot(pol, R(0, theta, phi))\n",
    "print(np.round(pol_z[0,:], 10)) # global phase of exp(-i * pi)\n",
    "\n",
    "print(sigma_m_sp[0], sigma_m_sp[1], sigma_m_sp[2])"
   ]
  },
  {
   "cell_type": "code",
   "execution_count": 19,
   "metadata": {
    "ExecuteTime": {
     "end_time": "2022-01-07T11:02:11.976636Z",
     "start_time": "2022-01-07T11:02:11.939455Z"
    }
   },
   "outputs": [
    {
     "data": {
      "text/plain": [
       "array([-0.        -0.70710678j,  0.        +0.j        ,\n",
       "       -0.70710678+0.j        ])"
      ]
     },
     "execution_count": 19,
     "metadata": {},
     "output_type": "execute_result"
    }
   ],
   "source": [
    "p = [-0.5j, 1 / np.sqrt(2), 0.5j] # 1 / sqrt(2) * (z - ix)\n",
    "sp_to_x(p)\n",
    "\n",
    "p = [-0.5j, -1 / np.sqrt(2), 0.5j] # - 1/sqrt(2) * (z + ix)\n",
    "sp_to_x(p)"
   ]
  },
  {
   "cell_type": "markdown",
   "metadata": {},
   "source": [
    "# Rotate a vector"
   ]
  },
  {
   "cell_type": "code",
   "execution_count": 20,
   "metadata": {
    "ExecuteTime": {
     "end_time": "2022-01-07T11:02:11.994867Z",
     "start_time": "2022-01-07T11:02:11.977193Z"
    }
   },
   "outputs": [],
   "source": [
    "def Rx(theta):\n",
    "    return np.array([[1, 0, 0],\n",
    "                     [0, np.cos(theta), -np.sin(theta)],\n",
    "                     [0, np.sin(theta), np.cos(theta)]])\n",
    "\n",
    "def Ry(theta):\n",
    "    return np.array([[np.cos(theta), 0, np.sin(theta)],\n",
    "                     [0, 1, 0],\n",
    "                     [-np.sin(theta), 0, np.cos(theta)]])\n",
    "\n",
    "def Rz(theta):\n",
    "    return np.array([[np.cos(theta), -np.sin(theta), 0],\n",
    "                     [np.sin(theta), np.cos(theta), 0],\n",
    "                     [0,0,1]])"
   ]
  },
  {
   "cell_type": "code",
   "execution_count": 21,
   "metadata": {
    "ExecuteTime": {
     "end_time": "2022-01-07T11:02:12.012010Z",
     "start_time": "2022-01-07T11:02:11.995515Z"
    }
   },
   "outputs": [],
   "source": [
    "beta = 45 * np.pi / 180\n",
    "nz = np.array([np.cos(beta),0,np.sin(beta)])\n",
    "nz = nz / np.sqrt(np.sum(nz**2))\n",
    "\n",
    "phi = np.arctan2(nz[1], nz[0]) \n",
    "theta = np.arccos(nz[2])\n",
    "alpha = 0 * np.pi / 180\n",
    "\n",
    "#gamma = 0 * np.pi / 180\n",
    "#beta = 45 * np.pi / 180\n",
    "#gamma = 0 * np.pi / 180\n",
    "\n",
    "# align x axis\n",
    "R1 = Rz(alpha)\n",
    "R2 = Ry(theta)#np.dot(R1.T, np.dot(Ry(theta), R1))\n",
    "\n",
    "# align y&z axis\n",
    "R3 = Rz(phi)#np.dot(R2, np.dot(Rz(phi), R2.T))\n",
    "\n",
    "R_tot = np.dot(R3, np.dot(R2, R1))"
   ]
  },
  {
   "cell_type": "code",
   "execution_count": 22,
   "metadata": {
    "ExecuteTime": {
     "end_time": "2022-01-07T11:02:12.027631Z",
     "start_time": "2022-01-07T11:02:12.012658Z"
    }
   },
   "outputs": [
    {
     "name": "stdout",
     "output_type": "stream",
     "text": [
      "[ 0.7071  0.     -0.7071]\n",
      "[0. 1. 0.]\n",
      "[0.7071 0.     0.7071]\n"
     ]
    }
   ],
   "source": [
    "print(np.round(np.dot(R_tot, np.array([1,0,0])), 4))\n",
    "print(np.round(np.dot(R_tot, np.array([0,1,0])), 4))\n",
    "print(np.round(np.dot(R_tot, np.array([0,0,1])), 4))"
   ]
  },
  {
   "cell_type": "code",
   "execution_count": 23,
   "metadata": {
    "ExecuteTime": {
     "end_time": "2022-01-07T11:02:12.043632Z",
     "start_time": "2022-01-07T11:02:12.028241Z"
    }
   },
   "outputs": [
    {
     "name": "stdout",
     "output_type": "stream",
     "text": [
      "0.7853981633974484 0.0\n"
     ]
    }
   ],
   "source": [
    "print(theta, phi)"
   ]
  },
  {
   "cell_type": "code",
   "execution_count": 24,
   "metadata": {
    "ExecuteTime": {
     "end_time": "2022-01-07T11:02:12.057963Z",
     "start_time": "2022-01-07T11:02:12.044197Z"
    }
   },
   "outputs": [],
   "source": [
    "beta = 45 * np.pi / 180\n",
    "nz = np.array([np.cos(beta),0,np.sin(beta)])"
   ]
  }
 ],
 "metadata": {
  "kernelspec": {
   "display_name": "Python 3",
   "language": "python",
   "name": "python3"
  },
  "language_info": {
   "codemirror_mode": {
    "name": "ipython",
    "version": 3
   },
   "file_extension": ".py",
   "mimetype": "text/x-python",
   "name": "python",
   "nbconvert_exporter": "python",
   "pygments_lexer": "ipython3",
   "version": "3.8.10"
  }
 },
 "nbformat": 4,
 "nbformat_minor": 2
}
